{
 "cells": [
  {
   "cell_type": "code",
   "execution_count": 27,
   "id": "77e8e524",
   "metadata": {},
   "outputs": [],
   "source": [
    "import pandas as pd\n",
    "import numpy as np\n",
    "exam_data  = {'name': ['Anastasia', 'Dima', 'Katherine', 'James', 'Emily', 'Michael', 'Matthew', 'Laura', 'Kevin', 'Jonas'],\n",
    "        'score': [12.5, 9, 16.5, np.nan, 9, 20, 14.5, np.nan, 8, 19],\n",
    "        'attempts': [1, 3, 2, 3, 2, 3, 1, 1, 2, 1],\n",
    "        'qualify': ['yes', 'no', 'yes', 'no', 'no', 'yes', 'yes', 'no', 'no', 'yes']}\n",
    "labels = ['a', 'b', 'c', 'd', 'e', 'f', 'g', 'h', 'i', 'j']\n",
    "df = pd.DataFrame(exam_data , index=labels)"
   ]
  },
  {
   "cell_type": "code",
   "execution_count": null,
   "id": "9c8cfa45",
   "metadata": {},
   "outputs": [],
   "source": [
    "df=df.dropna()"
   ]
  },
  {
   "cell_type": "code",
   "execution_count": null,
   "id": "e0a23298",
   "metadata": {},
   "outputs": [],
   "source": [
    "df = df.head(3)"
   ]
  },
  {
   "cell_type": "code",
   "execution_count": null,
   "id": "37b78412",
   "metadata": {},
   "outputs": [],
   "source": [
    "df.loc['k'] = [\"Suresh\", 15.5, 1, \"yes\"]\n",
    "df.drop('k')"
   ]
  },
  {
   "cell_type": "code",
   "execution_count": null,
   "id": "ef9e01e9",
   "metadata": {},
   "outputs": [],
   "source": [
    "df.loc[df[\"score\"]>10,\"Success\"]=\"1\""
   ]
  },
  {
   "cell_type": "code",
   "execution_count": null,
   "id": "8b9fde6e",
   "metadata": {},
   "outputs": [],
   "source": [
    "df.loc[df[\"score\"]<10,\"Success\"]=\"0\""
   ]
  },
  {
   "cell_type": "code",
   "execution_count": null,
   "id": "906f558c",
   "metadata": {},
   "outputs": [],
   "source": [
    "df.drop(\"attempts\", axis=1)"
   ]
  },
  {
   "cell_type": "code",
   "execution_count": null,
   "id": "baecf434",
   "metadata": {},
   "outputs": [],
   "source": [
    "df=pd.read_csv(\"C:/Users/ibrahim/Documents/Python Scripts/my_data.csv\")\n",
    "df"
   ]
  }
 ],
 "metadata": {
  "kernelspec": {
   "display_name": "Python 3 (ipykernel)",
   "language": "python",
   "name": "python3"
  },
  "language_info": {
   "codemirror_mode": {
    "name": "ipython",
    "version": 3
   },
   "file_extension": ".py",
   "mimetype": "text/x-python",
   "name": "python",
   "nbconvert_exporter": "python",
   "pygments_lexer": "ipython3",
   "version": "3.9.12"
  }
 },
 "nbformat": 4,
 "nbformat_minor": 5
}
